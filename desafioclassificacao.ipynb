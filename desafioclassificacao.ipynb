{
 "cells": [
  {
   "cell_type": "markdown",
   "metadata": {},
   "source": [
    "### 1) Importando bibliotecas e dados"
   ]
  },
  {
   "cell_type": "code",
   "execution_count": 47,
   "metadata": {},
   "outputs": [],
   "source": [
    "from sklearn.model_selection import train_test_split\n",
    "from sklearn.preprocessing import LabelEncoder\n",
    "from sklearn.metrics import classification_report, accuracy_score,precision_score,recall_score,f1_score,confusion_matrix\n",
    "from sklearn.linear_model import LogisticRegression\n",
    "from imblearn.over_sampling import SMOTE\n",
    "from sklearn.ensemble import RandomForestClassifier\n",
    "from xgboost import XGBClassifier, Booster, DMatrix\n",
    "from sklearn.model_selection import GridSearchCV,StratifiedKFold\n",
    "from sklearn import metrics\n",
    "import pandas as pd\n",
    "import matplotlib.pyplot as plt\n",
    "import numpy as np\n",
    "import seaborn as sns\n",
    "import random\n",
    "import warnings\n",
    "warnings.filterwarnings(\"ignore\")"
   ]
  },
  {
   "cell_type": "code",
   "execution_count": 2,
   "metadata": {},
   "outputs": [
    {
     "name": "stdout",
     "output_type": "stream",
     "text": [
      "Wall time: 8.85 s\n"
     ]
    }
   ],
   "source": [
    "%%time\n",
    "dados = pd.read_csv('fraud_detection_dataset.csv')"
   ]
  },
  {
   "cell_type": "markdown",
   "metadata": {},
   "source": [
    "### 2) Análise exploratória"
   ]
  },
  {
   "cell_type": "code",
   "execution_count": 3,
   "metadata": {},
   "outputs": [
    {
     "data": {
      "text/plain": [
       "(6362620, 11)"
      ]
     },
     "execution_count": 3,
     "metadata": {},
     "output_type": "execute_result"
    }
   ],
   "source": [
    "dados.shape"
   ]
  },
  {
   "cell_type": "code",
   "execution_count": 4,
   "metadata": {},
   "outputs": [
    {
     "data": {
      "text/html": [
       "<div>\n",
       "<style scoped>\n",
       "    .dataframe tbody tr th:only-of-type {\n",
       "        vertical-align: middle;\n",
       "    }\n",
       "\n",
       "    .dataframe tbody tr th {\n",
       "        vertical-align: top;\n",
       "    }\n",
       "\n",
       "    .dataframe thead th {\n",
       "        text-align: right;\n",
       "    }\n",
       "</style>\n",
       "<table border=\"1\" class=\"dataframe\">\n",
       "  <thead>\n",
       "    <tr style=\"text-align: right;\">\n",
       "      <th></th>\n",
       "      <th>step</th>\n",
       "      <th>amount</th>\n",
       "      <th>oldbalanceOrg</th>\n",
       "      <th>newbalanceOrig</th>\n",
       "      <th>oldbalanceDest</th>\n",
       "      <th>newbalanceDest</th>\n",
       "      <th>isFraud</th>\n",
       "      <th>isFlaggedFraud</th>\n",
       "    </tr>\n",
       "  </thead>\n",
       "  <tbody>\n",
       "    <tr>\n",
       "      <th>count</th>\n",
       "      <td>6.362620e+06</td>\n",
       "      <td>6.362620e+06</td>\n",
       "      <td>6.362620e+06</td>\n",
       "      <td>6.362620e+06</td>\n",
       "      <td>6.362620e+06</td>\n",
       "      <td>6.362620e+06</td>\n",
       "      <td>6.362620e+06</td>\n",
       "      <td>6.362620e+06</td>\n",
       "    </tr>\n",
       "    <tr>\n",
       "      <th>mean</th>\n",
       "      <td>2.433972e+02</td>\n",
       "      <td>1.798619e+05</td>\n",
       "      <td>8.338831e+05</td>\n",
       "      <td>8.551137e+05</td>\n",
       "      <td>1.100702e+06</td>\n",
       "      <td>1.224996e+06</td>\n",
       "      <td>1.290820e-03</td>\n",
       "      <td>2.514687e-06</td>\n",
       "    </tr>\n",
       "    <tr>\n",
       "      <th>std</th>\n",
       "      <td>1.423320e+02</td>\n",
       "      <td>6.038582e+05</td>\n",
       "      <td>2.888243e+06</td>\n",
       "      <td>2.924049e+06</td>\n",
       "      <td>3.399180e+06</td>\n",
       "      <td>3.674129e+06</td>\n",
       "      <td>3.590480e-02</td>\n",
       "      <td>1.585775e-03</td>\n",
       "    </tr>\n",
       "    <tr>\n",
       "      <th>min</th>\n",
       "      <td>1.000000e+00</td>\n",
       "      <td>0.000000e+00</td>\n",
       "      <td>0.000000e+00</td>\n",
       "      <td>0.000000e+00</td>\n",
       "      <td>0.000000e+00</td>\n",
       "      <td>0.000000e+00</td>\n",
       "      <td>0.000000e+00</td>\n",
       "      <td>0.000000e+00</td>\n",
       "    </tr>\n",
       "    <tr>\n",
       "      <th>25%</th>\n",
       "      <td>1.560000e+02</td>\n",
       "      <td>1.338957e+04</td>\n",
       "      <td>0.000000e+00</td>\n",
       "      <td>0.000000e+00</td>\n",
       "      <td>0.000000e+00</td>\n",
       "      <td>0.000000e+00</td>\n",
       "      <td>0.000000e+00</td>\n",
       "      <td>0.000000e+00</td>\n",
       "    </tr>\n",
       "    <tr>\n",
       "      <th>50%</th>\n",
       "      <td>2.390000e+02</td>\n",
       "      <td>7.487194e+04</td>\n",
       "      <td>1.420800e+04</td>\n",
       "      <td>0.000000e+00</td>\n",
       "      <td>1.327057e+05</td>\n",
       "      <td>2.146614e+05</td>\n",
       "      <td>0.000000e+00</td>\n",
       "      <td>0.000000e+00</td>\n",
       "    </tr>\n",
       "    <tr>\n",
       "      <th>75%</th>\n",
       "      <td>3.350000e+02</td>\n",
       "      <td>2.087215e+05</td>\n",
       "      <td>1.073152e+05</td>\n",
       "      <td>1.442584e+05</td>\n",
       "      <td>9.430367e+05</td>\n",
       "      <td>1.111909e+06</td>\n",
       "      <td>0.000000e+00</td>\n",
       "      <td>0.000000e+00</td>\n",
       "    </tr>\n",
       "    <tr>\n",
       "      <th>max</th>\n",
       "      <td>7.430000e+02</td>\n",
       "      <td>9.244552e+07</td>\n",
       "      <td>5.958504e+07</td>\n",
       "      <td>4.958504e+07</td>\n",
       "      <td>3.560159e+08</td>\n",
       "      <td>3.561793e+08</td>\n",
       "      <td>1.000000e+00</td>\n",
       "      <td>1.000000e+00</td>\n",
       "    </tr>\n",
       "  </tbody>\n",
       "</table>\n",
       "</div>"
      ],
      "text/plain": [
       "               step        amount  oldbalanceOrg  newbalanceOrig  \\\n",
       "count  6.362620e+06  6.362620e+06   6.362620e+06    6.362620e+06   \n",
       "mean   2.433972e+02  1.798619e+05   8.338831e+05    8.551137e+05   \n",
       "std    1.423320e+02  6.038582e+05   2.888243e+06    2.924049e+06   \n",
       "min    1.000000e+00  0.000000e+00   0.000000e+00    0.000000e+00   \n",
       "25%    1.560000e+02  1.338957e+04   0.000000e+00    0.000000e+00   \n",
       "50%    2.390000e+02  7.487194e+04   1.420800e+04    0.000000e+00   \n",
       "75%    3.350000e+02  2.087215e+05   1.073152e+05    1.442584e+05   \n",
       "max    7.430000e+02  9.244552e+07   5.958504e+07    4.958504e+07   \n",
       "\n",
       "       oldbalanceDest  newbalanceDest       isFraud  isFlaggedFraud  \n",
       "count    6.362620e+06    6.362620e+06  6.362620e+06    6.362620e+06  \n",
       "mean     1.100702e+06    1.224996e+06  1.290820e-03    2.514687e-06  \n",
       "std      3.399180e+06    3.674129e+06  3.590480e-02    1.585775e-03  \n",
       "min      0.000000e+00    0.000000e+00  0.000000e+00    0.000000e+00  \n",
       "25%      0.000000e+00    0.000000e+00  0.000000e+00    0.000000e+00  \n",
       "50%      1.327057e+05    2.146614e+05  0.000000e+00    0.000000e+00  \n",
       "75%      9.430367e+05    1.111909e+06  0.000000e+00    0.000000e+00  \n",
       "max      3.560159e+08    3.561793e+08  1.000000e+00    1.000000e+00  "
      ]
     },
     "execution_count": 4,
     "metadata": {},
     "output_type": "execute_result"
    }
   ],
   "source": [
    "dados.describe()"
   ]
  },
  {
   "cell_type": "code",
   "execution_count": 5,
   "metadata": {},
   "outputs": [
    {
     "data": {
      "text/html": [
       "<div>\n",
       "<style scoped>\n",
       "    .dataframe tbody tr th:only-of-type {\n",
       "        vertical-align: middle;\n",
       "    }\n",
       "\n",
       "    .dataframe tbody tr th {\n",
       "        vertical-align: top;\n",
       "    }\n",
       "\n",
       "    .dataframe thead th {\n",
       "        text-align: right;\n",
       "    }\n",
       "</style>\n",
       "<table border=\"1\" class=\"dataframe\">\n",
       "  <thead>\n",
       "    <tr style=\"text-align: right;\">\n",
       "      <th></th>\n",
       "      <th>step</th>\n",
       "      <th>type</th>\n",
       "      <th>amount</th>\n",
       "      <th>nameOrig</th>\n",
       "      <th>oldbalanceOrg</th>\n",
       "      <th>newbalanceOrig</th>\n",
       "      <th>nameDest</th>\n",
       "      <th>oldbalanceDest</th>\n",
       "      <th>newbalanceDest</th>\n",
       "      <th>isFlaggedFraud</th>\n",
       "    </tr>\n",
       "    <tr>\n",
       "      <th>isFraud</th>\n",
       "      <th></th>\n",
       "      <th></th>\n",
       "      <th></th>\n",
       "      <th></th>\n",
       "      <th></th>\n",
       "      <th></th>\n",
       "      <th></th>\n",
       "      <th></th>\n",
       "      <th></th>\n",
       "      <th></th>\n",
       "    </tr>\n",
       "  </thead>\n",
       "  <tbody>\n",
       "    <tr>\n",
       "      <th>0</th>\n",
       "      <td>6354407</td>\n",
       "      <td>6354407</td>\n",
       "      <td>6354407</td>\n",
       "      <td>6354407</td>\n",
       "      <td>6354407</td>\n",
       "      <td>6354407</td>\n",
       "      <td>6354407</td>\n",
       "      <td>6354407</td>\n",
       "      <td>6354407</td>\n",
       "      <td>6354407</td>\n",
       "    </tr>\n",
       "    <tr>\n",
       "      <th>1</th>\n",
       "      <td>8213</td>\n",
       "      <td>8213</td>\n",
       "      <td>8213</td>\n",
       "      <td>8213</td>\n",
       "      <td>8213</td>\n",
       "      <td>8213</td>\n",
       "      <td>8213</td>\n",
       "      <td>8213</td>\n",
       "      <td>8213</td>\n",
       "      <td>8213</td>\n",
       "    </tr>\n",
       "  </tbody>\n",
       "</table>\n",
       "</div>"
      ],
      "text/plain": [
       "            step     type   amount  nameOrig  oldbalanceOrg  newbalanceOrig  \\\n",
       "isFraud                                                                       \n",
       "0        6354407  6354407  6354407   6354407        6354407         6354407   \n",
       "1           8213     8213     8213      8213           8213            8213   \n",
       "\n",
       "         nameDest  oldbalanceDest  newbalanceDest  isFlaggedFraud  \n",
       "isFraud                                                            \n",
       "0         6354407         6354407         6354407         6354407  \n",
       "1            8213            8213            8213            8213  "
      ]
     },
     "execution_count": 5,
     "metadata": {},
     "output_type": "execute_result"
    }
   ],
   "source": [
    "dados.groupby('isFraud').agg('count')"
   ]
  },
  {
   "cell_type": "markdown",
   "metadata": {},
   "source": [
    "Vemos que não tem nenhum valor missing nos nossos dados e também há uma grande desproporção entre as classes de fraude e não fraude."
   ]
  },
  {
   "cell_type": "code",
   "execution_count": 6,
   "metadata": {},
   "outputs": [
    {
     "data": {
      "text/plain": [
       "<AxesSubplot:xlabel='isFraud', ylabel='amount'>"
      ]
     },
     "execution_count": 6,
     "metadata": {},
     "output_type": "execute_result"
    },
    {
     "data": {
      "image/png": "[encoded data removed]",
      "text/plain": [
       "<Figure size 432x288 with 1 Axes>"
      ]
     },
     "metadata": {
      "needs_background": "light"
     },
     "output_type": "display_data"
    }
   ],
   "source": [
    "sns.boxplot(x = dados['isFraud'], y = dados['amount'])"
   ]
  },
  {
   "cell_type": "code",
   "execution_count": 7,
   "metadata": {},
   "outputs": [
    {
     "data": {
      "text/plain": [
       "<AxesSubplot:xlabel='type', ylabel='amount'>"
      ]
     },
     "execution_count": 7,
     "metadata": {},
     "output_type": "execute_result"
    },
    {
     "data": {
      "image/png": "[encoded data removed]",
      "text/plain": [
       "<Figure size 432x288 with 1 Axes>"
      ]
     },
     "metadata": {
      "needs_background": "light"
     },
     "output_type": "display_data"
    }
   ],
   "source": [
    "sns.boxplot(x = dados['type'], y = dados['amount'])"
   ]
  },
  {
   "cell_type": "markdown",
   "metadata": {},
   "source": [
    "Vamos analisar exclusivamente as fraudes e tentar encontrar um padrão"
   ]
  },
  {
   "cell_type": "code",
   "execution_count": 8,
   "metadata": {},
   "outputs": [],
   "source": [
    "dados_fraude = dados.loc[dados['isFraud'] == 1]"
   ]
  },
  {
   "cell_type": "code",
   "execution_count": 9,
   "metadata": {},
   "outputs": [
    {
     "data": {
      "text/plain": [
       "<AxesSubplot:xlabel='type', ylabel='amount'>"
      ]
     },
     "execution_count": 9,
     "metadata": {},
     "output_type": "execute_result"
    },
    {
     "data": {
      "image/png": "[encoded data removed]",
      "text/plain": [
       "<Figure size 432x288 with 1 Axes>"
      ]
     },
     "metadata": {
      "needs_background": "light"
     },
     "output_type": "display_data"
    }
   ],
   "source": [
    "sns.boxplot(x = dados_fraude['type'], y = dados_fraude['amount'])"
   ]
  },
  {
   "cell_type": "markdown",
   "metadata": {},
   "source": [
    "Só há fraudes nos tipos de transação transfer e cashout"
   ]
  },
  {
   "cell_type": "code",
   "execution_count": 10,
   "metadata": {},
   "outputs": [
    {
     "data": {
      "text/plain": [
       "1649667.6057116783"
      ]
     },
     "execution_count": 10,
     "metadata": {},
     "output_type": "execute_result"
    }
   ],
   "source": [
    "dados_fraude.oldbalanceOrg.mean()"
   ]
  },
  {
   "cell_type": "code",
   "execution_count": 11,
   "metadata": {},
   "outputs": [
    {
     "data": {
      "text/plain": [
       "544249.6190746377"
      ]
     },
     "execution_count": 11,
     "metadata": {},
     "output_type": "execute_result"
    }
   ],
   "source": [
    "dados_fraude.oldbalanceDest.mean()"
   ]
  },
  {
   "cell_type": "code",
   "execution_count": 12,
   "metadata": {},
   "outputs": [
    {
     "data": {
      "text/plain": [
       "<AxesSubplot:>"
      ]
     },
     "execution_count": 12,
     "metadata": {},
     "output_type": "execute_result"
    },
    {
     "data": {
      "image/png": "[encoded data removed]",
      "text/plain": [
       "<Figure size 432x288 with 1 Axes>"
      ]
     },
     "metadata": {
      "needs_background": "light"
     },
     "output_type": "display_data"
    }
   ],
   "source": [
    "dados_fraude[['oldbalanceOrg','oldbalanceDest']].mean().plot(kind='bar',grid=True)"
   ]
  },
  {
   "cell_type": "markdown",
   "metadata": {},
   "source": [
    "O saldo médio das contas de origem antes das operações fraudulentas era muito superior aos da de origem."
   ]
  },
  {
   "cell_type": "code",
   "execution_count": 13,
   "metadata": {},
   "outputs": [
    {
     "data": {
      "text/plain": [
       "192392.63183611343"
      ]
     },
     "execution_count": 13,
     "metadata": {},
     "output_type": "execute_result"
    }
   ],
   "source": [
    "dados_fraude.newbalanceOrig.mean()"
   ]
  },
  {
   "cell_type": "code",
   "execution_count": 14,
   "metadata": {},
   "outputs": [
    {
     "data": {
      "text/plain": [
       "1279707.6171459865"
      ]
     },
     "execution_count": 14,
     "metadata": {},
     "output_type": "execute_result"
    }
   ],
   "source": [
    "dados_fraude.newbalanceDest.mean()"
   ]
  },
  {
   "cell_type": "code",
   "execution_count": 15,
   "metadata": {},
   "outputs": [
    {
     "data": {
      "text/plain": [
       "<AxesSubplot:>"
      ]
     },
     "execution_count": 15,
     "metadata": {},
     "output_type": "execute_result"
    },
    {
     "data": {
      "image/png": "[encoded data removed]",
      "text/plain": [
       "<Figure size 432x288 with 1 Axes>"
      ]
     },
     "metadata": {
      "needs_background": "light"
     },
     "output_type": "display_data"
    }
   ],
   "source": [
    "dados_fraude[['newbalanceOrig','newbalanceDest']].mean().plot(kind='bar',grid=True)"
   ]
  },
  {
   "cell_type": "markdown",
   "metadata": {},
   "source": [
    "O saldo médio da coluna de origem caiu de 1,6 Mi para 192 mil. Já o do destino subiu de 544 mil para 1,27 Mi. Com esses gráficos fica clara a transferência de valores entre o destinatário e receptor das operações fraudulentas. Portanto, é importante que possamos criar features no nosso modelo que ajudem a captar esse movimento. Para ajudar os argumentos da nossa hipótese vamos verificar esse comportamento no dataset completo."
   ]
  },
  {
   "cell_type": "code",
   "execution_count": 16,
   "metadata": {},
   "outputs": [
    {
     "data": {
      "text/plain": [
       "<AxesSubplot:>"
      ]
     },
     "execution_count": 16,
     "metadata": {},
     "output_type": "execute_result"
    },
    {
     "data": {
      "image/png": "[encoded data removed]",
      "text/plain": [
       "<Figure size 432x288 with 1 Axes>"
      ]
     },
     "metadata": {
      "needs_background": "light"
     },
     "output_type": "display_data"
    }
   ],
   "source": [
    "dados[['oldbalanceOrg','oldbalanceDest']].mean().plot(kind='bar',grid=True)"
   ]
  },
  {
   "cell_type": "code",
   "execution_count": 17,
   "metadata": {},
   "outputs": [
    {
     "data": {
      "text/plain": [
       "<AxesSubplot:>"
      ]
     },
     "execution_count": 17,
     "metadata": {},
     "output_type": "execute_result"
    },
    {
     "data": {
      "image/png": "[encoded data removed]",
      "text/plain": [
       "<Figure size 432x288 with 1 Axes>"
      ]
     },
     "metadata": {
      "needs_background": "light"
     },
     "output_type": "display_data"
    }
   ],
   "source": [
    "dados[['newbalanceOrig','newbalanceDest']].mean().plot(kind='bar',grid=True)"
   ]
  },
  {
   "cell_type": "markdown",
   "metadata": {},
   "source": [
    "Quando olhamos nossa população completa a variação entre os valores antes e depois da operação é muito mais sutil. Então aparentemente temos a nossa primeira grande evidência de uma operação fraudulenta, e se criarmos as features corretas nosso modelo será capaz de identificar operações com esse comportamento e taxa-las de fraudulenta."
   ]
  },
  {
   "cell_type": "code",
   "execution_count": 18,
   "metadata": {},
   "outputs": [
    {
     "data": {
      "text/plain": [
       "<AxesSubplot:>"
      ]
     },
     "execution_count": 18,
     "metadata": {},
     "output_type": "execute_result"
    },
    {
     "data": {
      "image/png": "[encoded data removed]",
      "text/plain": [
       "<Figure size 432x288 with 2 Axes>"
      ]
     },
     "metadata": {
      "needs_background": "light"
     },
     "output_type": "display_data"
    }
   ],
   "source": [
    "sns.heatmap(dados.corr(),annot=True,cmap='GnBu')"
   ]
  },
  {
   "cell_type": "markdown",
   "metadata": {},
   "source": [
    "Na correlação podemos ver que a variável que mais se relaciona com a nossa alvo é a amount, porém como vimos a distribuição da amount em relação a nossa variável alvo não é uniforme."
   ]
  },
  {
   "cell_type": "markdown",
   "metadata": {},
   "source": [
    "### 3) Feature Engineering"
   ]
  },
  {
   "cell_type": "markdown",
   "metadata": {},
   "source": [
    "A coluna step representa as horas de 1 a 744, portanto, 31 dias. Assim podemos criar uma coluna com o dia que pode nos ajudar futuramente nos agrupamentos do nosso processo de feature engineering. Nesse caso vamos fazer no pandas por enquanto já que o cudf 0.16, utilizado para a construção desse notebook, ainda não tinha o método apply, com  o qual podemos fazer facilmente essa atribuição no pandas."
   ]
  },
  {
   "cell_type": "code",
   "execution_count": 19,
   "metadata": {},
   "outputs": [],
   "source": [
    "hora_i = 1\n",
    "hora_f = 24\n",
    "lista_dias = []\n",
    "lista_horas = []\n",
    "dia = 1\n",
    "while dia <= 31:\n",
    "    for h in range (hora_i-1,hora_f):\n",
    "        lista_horas.append(h+1)\n",
    "        lista_dias.append(dia)\n",
    "    dia += 1\n",
    "    hora_i += 24\n",
    "    hora_f += 24  \n",
    "dic_step = dict(zip(lista_horas,lista_dias))\n",
    "dados['dia'] = dados.step.map(dic_step)"
   ]
  },
  {
   "cell_type": "markdown",
   "metadata": {},
   "source": [
    "Vamos aplicar o label encoder nas nossas variáveis categóricas"
   ]
  },
  {
   "cell_type": "code",
   "execution_count": 20,
   "metadata": {},
   "outputs": [],
   "source": [
    "le = LabelEncoder()"
   ]
  },
  {
   "cell_type": "code",
   "execution_count": 21,
   "metadata": {},
   "outputs": [],
   "source": [
    "dados['type'] = le.fit_transform(dados['type'])\n",
    "dados['nameOrig'] = le.fit_transform(dados['nameOrig'])\n",
    "dados['nameDest'] = le.fit_transform(dados['nameDest'])"
   ]
  },
  {
   "cell_type": "markdown",
   "metadata": {},
   "source": [
    "Agora vamos dividir nossos dados em treino e teste."
   ]
  },
  {
   "cell_type": "code",
   "execution_count": 22,
   "metadata": {},
   "outputs": [],
   "source": [
    "X = dados.drop(columns = 'isFraud')\n",
    "y = dados.isFraud"
   ]
  },
  {
   "cell_type": "code",
   "execution_count": 23,
   "metadata": {},
   "outputs": [],
   "source": [
    "X_train, X_test, y_train, y_test = train_test_split(X,\n",
    "                                                    y,\n",
    "                                                    train_size=0.7,\n",
    "                                                    random_state = 42)"
   ]
  },
  {
   "cell_type": "markdown",
   "metadata": {},
   "source": [
    "Para adicionar complexidade ao nosso modelo, vamos criar novas features. Começando pelas combinações das variáveis categóricas, nas quais aplicaremos também o label encoder para cada combinação."
   ]
  },
  {
   "cell_type": "code",
   "execution_count": 24,
   "metadata": {},
   "outputs": [],
   "source": [
    "def label_encoder(df1,df2,col,verbose=True):\n",
    "    df_comb = pd.concat([df1[col],df2[col]],axis=0)\n",
    "    df_comb,_ = df_comb.factorize()\n",
    "    df1[col] = df_comb[:len(df1)].astype('int32')\n",
    "    df2[col] = df_comb[len(df1):].astype('int32')\n",
    "    if verbose: print(col,', ',end='')\n",
    "\n",
    "def combina_features(df1,df2,col1,col2,verbose=True):\n",
    "    nm = col1+'_'+col2\n",
    "    df1[nm] = df1[col1].astype(str)+'_'+df1[col2].astype(str)\n",
    "    df2[nm] = df2[col1].astype(str)+'_'+df2[col2].astype(str) \n",
    "    label_encoder(df1,df2,nm,verbose=False)\n",
    "    if verbose: print(nm,', ',end='')"
   ]
  },
  {
   "cell_type": "code",
   "execution_count": 25,
   "metadata": {},
   "outputs": [
    {
     "name": "stdout",
     "output_type": "stream",
     "text": [
      "type_nameOrig , type_nameDest , nameOrig_nameDest , "
     ]
    }
   ],
   "source": [
    "combina_features(X_train,X_test,'type','nameOrig')\n",
    "combina_features(X_train,X_test,'type','nameDest')\n",
    "combina_features(X_train,X_test,'nameOrig','nameDest')"
   ]
  },
  {
   "cell_type": "code",
   "execution_count": 26,
   "metadata": {},
   "outputs": [
    {
     "data": {
      "text/plain": [
       "((4453834, 14), (1908786, 14))"
      ]
     },
     "execution_count": 26,
     "metadata": {},
     "output_type": "execute_result"
    }
   ],
   "source": [
    "X_train.shape,X_test.shape"
   ]
  },
  {
   "cell_type": "markdown",
   "metadata": {},
   "source": [
    "Outras features que podemos acrescentar são as médias dos valores para cada uma das variáveis categóricas, assim é possível que o modelo identifique outliers em casos de fraude"
   ]
  },
  {
   "cell_type": "code",
   "execution_count": 27,
   "metadata": {},
   "outputs": [],
   "source": [
    "datasets = [X_train,X_test]\n",
    "for dataset in datasets:\n",
    "    dataset['type_avg_amount'] = dataset.groupby('type').amount.transform(lambda x: x.mean())\n",
    "    dataset['orig_avg_amount'] = dataset.groupby('nameOrig').amount.transform('mean')\n",
    "    dataset['dest_avg_amount'] = dataset.groupby('nameDest').amount.transform('mean')\n",
    "    dataset['type_avg_oldbalanceDest'] = dataset.groupby('type').oldbalanceDest.transform(lambda x: x.mean())\n",
    "    dataset['orig_avg_oldbalanceDest'] = dataset.groupby('nameOrig').oldbalanceDest.transform('mean')\n",
    "    dataset['dest_avg_oldbalanceDest'] = dataset.groupby('nameDest').oldbalanceDest.transform('mean')\n",
    "    dataset['type_avg_newbalanceDestt'] = dataset.groupby('type').newbalanceDest.transform(lambda x: x.mean())\n",
    "    dataset['orig_avg_newbalanceDest'] = dataset.groupby('nameOrig').newbalanceDest.transform('mean')\n",
    "    dataset['dest_avg_newbalanceDest'] = dataset.groupby('nameDest').newbalanceDest.transform('mean')"
   ]
  },
  {
   "cell_type": "markdown",
   "metadata": {},
   "source": [
    "Também importante é sabermos a quantidade de movimentações feitas no mês para o destinatário e autor da operação, é provável que usuários que façam muitas operações sejam mais propensos a fraudes"
   ]
  },
  {
   "cell_type": "code",
   "execution_count": 28,
   "metadata": {},
   "outputs": [],
   "source": [
    "for dataset in datasets:\n",
    "    dataset['orig_count'] = dataset.groupby('nameOrig').amount.transform('count')\n",
    "    dataset['dest_count'] = dataset.groupby('nameDest').amount.transform('count')"
   ]
  },
  {
   "cell_type": "markdown",
   "metadata": {},
   "source": [
    "Como fizemos a classificação de dia a partir da coluna step conseguimos também fazer essa contagem por dia. Vamos fazer isso criando uma chave concatenando o  dia e destinatário (e o autor), e então fazendo uma contagem dessa chave."
   ]
  },
  {
   "cell_type": "code",
   "execution_count": 29,
   "metadata": {},
   "outputs": [],
   "source": [
    "for dataset in datasets:\n",
    "    dataset['chave_namedest'] =  dataset.nameDest.astype('str') + '-' + dataset.dia.astype('str')\n",
    "    dataset['dest_count_dia'] =  dataset.groupby(['chave_namedest','dia']).amount.transform('count')\n",
    "    dataset['chave_nameOrig'] =  dataset.nameOrig.astype('str') + '-' + dataset.dia.astype('str')\n",
    "    dataset['orig_count_dia'] =  dataset.groupby(['chave_nameOrig','dia']).amount.transform('count')\n",
    "    dataset.drop(columns=['chave_nameOrig','chave_namedest'], inplace=True)"
   ]
  },
  {
   "cell_type": "code",
   "execution_count": 30,
   "metadata": {},
   "outputs": [
    {
     "data": {
      "text/html": [
       "<div>\n",
       "<style scoped>\n",
       "    .dataframe tbody tr th:only-of-type {\n",
       "        vertical-align: middle;\n",
       "    }\n",
       "\n",
       "    .dataframe tbody tr th {\n",
       "        vertical-align: top;\n",
       "    }\n",
       "\n",
       "    .dataframe thead th {\n",
       "        text-align: right;\n",
       "    }\n",
       "</style>\n",
       "<table border=\"1\" class=\"dataframe\">\n",
       "  <thead>\n",
       "    <tr style=\"text-align: right;\">\n",
       "      <th></th>\n",
       "      <th>step</th>\n",
       "      <th>type</th>\n",
       "      <th>amount</th>\n",
       "      <th>nameOrig</th>\n",
       "      <th>oldbalanceOrg</th>\n",
       "      <th>newbalanceOrig</th>\n",
       "      <th>nameDest</th>\n",
       "      <th>oldbalanceDest</th>\n",
       "      <th>newbalanceDest</th>\n",
       "      <th>isFlaggedFraud</th>\n",
       "      <th>...</th>\n",
       "      <th>type_avg_oldbalanceDest</th>\n",
       "      <th>orig_avg_oldbalanceDest</th>\n",
       "      <th>dest_avg_oldbalanceDest</th>\n",
       "      <th>type_avg_newbalanceDestt</th>\n",
       "      <th>orig_avg_newbalanceDest</th>\n",
       "      <th>dest_avg_newbalanceDest</th>\n",
       "      <th>orig_count</th>\n",
       "      <th>dest_count</th>\n",
       "      <th>dest_count_dia</th>\n",
       "      <th>orig_count_dia</th>\n",
       "    </tr>\n",
       "  </thead>\n",
       "  <tbody>\n",
       "    <tr>\n",
       "      <th>2408104</th>\n",
       "      <td>202</td>\n",
       "      <td>0</td>\n",
       "      <td>26771.98</td>\n",
       "      <td>2487575</td>\n",
       "      <td>27521.00</td>\n",
       "      <td>54292.98</td>\n",
       "      <td>18776</td>\n",
       "      <td>7175503.03</td>\n",
       "      <td>7148731.05</td>\n",
       "      <td>0</td>\n",
       "      <td>...</td>\n",
       "      <td>1.587590e+06</td>\n",
       "      <td>7175503.03</td>\n",
       "      <td>6.735236e+06</td>\n",
       "      <td>1.466921e+06</td>\n",
       "      <td>7148731.05</td>\n",
       "      <td>6.987355e+06</td>\n",
       "      <td>1</td>\n",
       "      <td>13</td>\n",
       "      <td>3</td>\n",
       "      <td>1</td>\n",
       "    </tr>\n",
       "    <tr>\n",
       "      <th>662430</th>\n",
       "      <td>36</td>\n",
       "      <td>1</td>\n",
       "      <td>344879.65</td>\n",
       "      <td>1909142</td>\n",
       "      <td>0.00</td>\n",
       "      <td>0.00</td>\n",
       "      <td>125492</td>\n",
       "      <td>3731846.57</td>\n",
       "      <td>4076726.22</td>\n",
       "      <td>0</td>\n",
       "      <td>...</td>\n",
       "      <td>1.493955e+06</td>\n",
       "      <td>3731846.57</td>\n",
       "      <td>4.005485e+06</td>\n",
       "      <td>1.687602e+06</td>\n",
       "      <td>4076726.22</td>\n",
       "      <td>4.271616e+06</td>\n",
       "      <td>1</td>\n",
       "      <td>37</td>\n",
       "      <td>10</td>\n",
       "      <td>1</td>\n",
       "    </tr>\n",
       "    <tr>\n",
       "      <th>496595</th>\n",
       "      <td>20</td>\n",
       "      <td>4</td>\n",
       "      <td>1862607.84</td>\n",
       "      <td>4401349</td>\n",
       "      <td>0.00</td>\n",
       "      <td>0.00</td>\n",
       "      <td>317835</td>\n",
       "      <td>3329828.01</td>\n",
       "      <td>4913631.27</td>\n",
       "      <td>0</td>\n",
       "      <td>...</td>\n",
       "      <td>2.567985e+06</td>\n",
       "      <td>3329828.01</td>\n",
       "      <td>4.295577e+06</td>\n",
       "      <td>3.553313e+06</td>\n",
       "      <td>4913631.27</td>\n",
       "      <td>4.369077e+06</td>\n",
       "      <td>1</td>\n",
       "      <td>21</td>\n",
       "      <td>9</td>\n",
       "      <td>1</td>\n",
       "    </tr>\n",
       "    <tr>\n",
       "      <th>5053741</th>\n",
       "      <td>354</td>\n",
       "      <td>3</td>\n",
       "      <td>37739.35</td>\n",
       "      <td>5203756</td>\n",
       "      <td>66684.93</td>\n",
       "      <td>28945.58</td>\n",
       "      <td>604220</td>\n",
       "      <td>0.00</td>\n",
       "      <td>0.00</td>\n",
       "      <td>0</td>\n",
       "      <td>...</td>\n",
       "      <td>0.000000e+00</td>\n",
       "      <td>0.00</td>\n",
       "      <td>0.000000e+00</td>\n",
       "      <td>0.000000e+00</td>\n",
       "      <td>0.00</td>\n",
       "      <td>0.000000e+00</td>\n",
       "      <td>1</td>\n",
       "      <td>1</td>\n",
       "      <td>1</td>\n",
       "      <td>1</td>\n",
       "    </tr>\n",
       "    <tr>\n",
       "      <th>755621</th>\n",
       "      <td>38</td>\n",
       "      <td>1</td>\n",
       "      <td>376055.13</td>\n",
       "      <td>2337985</td>\n",
       "      <td>22501.00</td>\n",
       "      <td>0.00</td>\n",
       "      <td>26843</td>\n",
       "      <td>182350.43</td>\n",
       "      <td>558405.55</td>\n",
       "      <td>0</td>\n",
       "      <td>...</td>\n",
       "      <td>1.493955e+06</td>\n",
       "      <td>182350.43</td>\n",
       "      <td>6.151689e+05</td>\n",
       "      <td>1.687602e+06</td>\n",
       "      <td>558405.55</td>\n",
       "      <td>6.435662e+05</td>\n",
       "      <td>1</td>\n",
       "      <td>15</td>\n",
       "      <td>2</td>\n",
       "      <td>1</td>\n",
       "    </tr>\n",
       "    <tr>\n",
       "      <th>...</th>\n",
       "      <td>...</td>\n",
       "      <td>...</td>\n",
       "      <td>...</td>\n",
       "      <td>...</td>\n",
       "      <td>...</td>\n",
       "      <td>...</td>\n",
       "      <td>...</td>\n",
       "      <td>...</td>\n",
       "      <td>...</td>\n",
       "      <td>...</td>\n",
       "      <td>...</td>\n",
       "      <td>...</td>\n",
       "      <td>...</td>\n",
       "      <td>...</td>\n",
       "      <td>...</td>\n",
       "      <td>...</td>\n",
       "      <td>...</td>\n",
       "      <td>...</td>\n",
       "      <td>...</td>\n",
       "      <td>...</td>\n",
       "      <td>...</td>\n",
       "    </tr>\n",
       "    <tr>\n",
       "      <th>1570006</th>\n",
       "      <td>155</td>\n",
       "      <td>0</td>\n",
       "      <td>129715.85</td>\n",
       "      <td>2323574</td>\n",
       "      <td>5054252.83</td>\n",
       "      <td>5183968.68</td>\n",
       "      <td>239829</td>\n",
       "      <td>246692.94</td>\n",
       "      <td>116977.09</td>\n",
       "      <td>0</td>\n",
       "      <td>...</td>\n",
       "      <td>1.587590e+06</td>\n",
       "      <td>246692.94</td>\n",
       "      <td>2.301393e+05</td>\n",
       "      <td>1.466921e+06</td>\n",
       "      <td>116977.09</td>\n",
       "      <td>3.190807e+05</td>\n",
       "      <td>1</td>\n",
       "      <td>11</td>\n",
       "      <td>2</td>\n",
       "      <td>1</td>\n",
       "    </tr>\n",
       "    <tr>\n",
       "      <th>2234489</th>\n",
       "      <td>186</td>\n",
       "      <td>3</td>\n",
       "      <td>2459.70</td>\n",
       "      <td>2773170</td>\n",
       "      <td>0.00</td>\n",
       "      <td>0.00</td>\n",
       "      <td>1527061</td>\n",
       "      <td>0.00</td>\n",
       "      <td>0.00</td>\n",
       "      <td>0</td>\n",
       "      <td>...</td>\n",
       "      <td>0.000000e+00</td>\n",
       "      <td>0.00</td>\n",
       "      <td>0.000000e+00</td>\n",
       "      <td>0.000000e+00</td>\n",
       "      <td>0.00</td>\n",
       "      <td>0.000000e+00</td>\n",
       "      <td>1</td>\n",
       "      <td>1</td>\n",
       "      <td>1</td>\n",
       "      <td>1</td>\n",
       "    </tr>\n",
       "    <tr>\n",
       "      <th>4926484</th>\n",
       "      <td>350</td>\n",
       "      <td>1</td>\n",
       "      <td>10579.16</td>\n",
       "      <td>1903639</td>\n",
       "      <td>59279.00</td>\n",
       "      <td>48699.84</td>\n",
       "      <td>35205</td>\n",
       "      <td>322754.16</td>\n",
       "      <td>333333.32</td>\n",
       "      <td>0</td>\n",
       "      <td>...</td>\n",
       "      <td>1.493955e+06</td>\n",
       "      <td>322754.16</td>\n",
       "      <td>3.430566e+05</td>\n",
       "      <td>1.687602e+06</td>\n",
       "      <td>333333.32</td>\n",
       "      <td>2.980068e+05</td>\n",
       "      <td>1</td>\n",
       "      <td>3</td>\n",
       "      <td>2</td>\n",
       "      <td>1</td>\n",
       "    </tr>\n",
       "    <tr>\n",
       "      <th>4304572</th>\n",
       "      <td>307</td>\n",
       "      <td>1</td>\n",
       "      <td>73020.76</td>\n",
       "      <td>4311664</td>\n",
       "      <td>20289.00</td>\n",
       "      <td>0.00</td>\n",
       "      <td>284813</td>\n",
       "      <td>256102.84</td>\n",
       "      <td>329123.61</td>\n",
       "      <td>0</td>\n",
       "      <td>...</td>\n",
       "      <td>1.493955e+06</td>\n",
       "      <td>256102.84</td>\n",
       "      <td>2.093845e+05</td>\n",
       "      <td>1.687602e+06</td>\n",
       "      <td>329123.61</td>\n",
       "      <td>2.550009e+05</td>\n",
       "      <td>1</td>\n",
       "      <td>8</td>\n",
       "      <td>2</td>\n",
       "      <td>1</td>\n",
       "    </tr>\n",
       "    <tr>\n",
       "      <th>1692743</th>\n",
       "      <td>159</td>\n",
       "      <td>1</td>\n",
       "      <td>89698.85</td>\n",
       "      <td>6235529</td>\n",
       "      <td>196071.00</td>\n",
       "      <td>106372.15</td>\n",
       "      <td>88856</td>\n",
       "      <td>0.00</td>\n",
       "      <td>89698.85</td>\n",
       "      <td>0</td>\n",
       "      <td>...</td>\n",
       "      <td>1.493955e+06</td>\n",
       "      <td>0.00</td>\n",
       "      <td>2.326660e+05</td>\n",
       "      <td>1.687602e+06</td>\n",
       "      <td>89698.85</td>\n",
       "      <td>2.632181e+05</td>\n",
       "      <td>1</td>\n",
       "      <td>7</td>\n",
       "      <td>1</td>\n",
       "      <td>1</td>\n",
       "    </tr>\n",
       "  </tbody>\n",
       "</table>\n",
       "<p>4453834 rows × 27 columns</p>\n",
       "</div>"
      ],
      "text/plain": [
       "         step  type      amount  nameOrig  oldbalanceOrg  newbalanceOrig  \\\n",
       "2408104   202     0    26771.98   2487575       27521.00        54292.98   \n",
       "662430     36     1   344879.65   1909142           0.00            0.00   \n",
       "496595     20     4  1862607.84   4401349           0.00            0.00   \n",
       "5053741   354     3    37739.35   5203756       66684.93        28945.58   \n",
       "755621     38     1   376055.13   2337985       22501.00            0.00   \n",
       "...       ...   ...         ...       ...            ...             ...   \n",
       "1570006   155     0   129715.85   2323574     5054252.83      5183968.68   \n",
       "2234489   186     3     2459.70   2773170           0.00            0.00   \n",
       "4926484   350     1    10579.16   1903639       59279.00        48699.84   \n",
       "4304572   307     1    73020.76   4311664       20289.00            0.00   \n",
       "1692743   159     1    89698.85   6235529      196071.00       106372.15   \n",
       "\n",
       "         nameDest  oldbalanceDest  newbalanceDest  isFlaggedFraud  ...  \\\n",
       "2408104     18776      7175503.03      7148731.05               0  ...   \n",
       "662430     125492      3731846.57      4076726.22               0  ...   \n",
       "496595     317835      3329828.01      4913631.27               0  ...   \n",
       "5053741    604220            0.00            0.00               0  ...   \n",
       "755621      26843       182350.43       558405.55               0  ...   \n",
       "...           ...             ...             ...             ...  ...   \n",
       "1570006    239829       246692.94       116977.09               0  ...   \n",
       "2234489   1527061            0.00            0.00               0  ...   \n",
       "4926484     35205       322754.16       333333.32               0  ...   \n",
       "4304572    284813       256102.84       329123.61               0  ...   \n",
       "1692743     88856            0.00        89698.85               0  ...   \n",
       "\n",
       "         type_avg_oldbalanceDest  orig_avg_oldbalanceDest  \\\n",
       "2408104             1.587590e+06               7175503.03   \n",
       "662430              1.493955e+06               3731846.57   \n",
       "496595              2.567985e+06               3329828.01   \n",
       "5053741             0.000000e+00                     0.00   \n",
       "755621              1.493955e+06                182350.43   \n",
       "...                          ...                      ...   \n",
       "1570006             1.587590e+06                246692.94   \n",
       "2234489             0.000000e+00                     0.00   \n",
       "4926484             1.493955e+06                322754.16   \n",
       "4304572             1.493955e+06                256102.84   \n",
       "1692743             1.493955e+06                     0.00   \n",
       "\n",
       "         dest_avg_oldbalanceDest  type_avg_newbalanceDestt  \\\n",
       "2408104             6.735236e+06              1.466921e+06   \n",
       "662430              4.005485e+06              1.687602e+06   \n",
       "496595              4.295577e+06              3.553313e+06   \n",
       "5053741             0.000000e+00              0.000000e+00   \n",
       "755621              6.151689e+05              1.687602e+06   \n",
       "...                          ...                       ...   \n",
       "1570006             2.301393e+05              1.466921e+06   \n",
       "2234489             0.000000e+00              0.000000e+00   \n",
       "4926484             3.430566e+05              1.687602e+06   \n",
       "4304572             2.093845e+05              1.687602e+06   \n",
       "1692743             2.326660e+05              1.687602e+06   \n",
       "\n",
       "         orig_avg_newbalanceDest  dest_avg_newbalanceDest  orig_count  \\\n",
       "2408104               7148731.05             6.987355e+06           1   \n",
       "662430                4076726.22             4.271616e+06           1   \n",
       "496595                4913631.27             4.369077e+06           1   \n",
       "5053741                     0.00             0.000000e+00           1   \n",
       "755621                 558405.55             6.435662e+05           1   \n",
       "...                          ...                      ...         ...   \n",
       "1570006                116977.09             3.190807e+05           1   \n",
       "2234489                     0.00             0.000000e+00           1   \n",
       "4926484                333333.32             2.980068e+05           1   \n",
       "4304572                329123.61             2.550009e+05           1   \n",
       "1692743                 89698.85             2.632181e+05           1   \n",
       "\n",
       "         dest_count  dest_count_dia  orig_count_dia  \n",
       "2408104          13               3               1  \n",
       "662430           37              10               1  \n",
       "496595           21               9               1  \n",
       "5053741           1               1               1  \n",
       "755621           15               2               1  \n",
       "...             ...             ...             ...  \n",
       "1570006          11               2               1  \n",
       "2234489           1               1               1  \n",
       "4926484           3               2               1  \n",
       "4304572           8               2               1  \n",
       "1692743           7               1               1  \n",
       "\n",
       "[4453834 rows x 27 columns]"
      ]
     },
     "execution_count": 30,
     "metadata": {},
     "output_type": "execute_result"
    }
   ],
   "source": [
    "X_train"
   ]
  },
  {
   "cell_type": "markdown",
   "metadata": {},
   "source": [
    "Agora podemos fazer uma feature com a razão do número de transferências no dia em relação ao número de transferências total, dessa forma será possível verificar se em algum dia específico o usuário tem uma movimentação atípica em termos de frequência. "
   ]
  },
  {
   "cell_type": "code",
   "execution_count": 31,
   "metadata": {},
   "outputs": [],
   "source": [
    "for dataset in datasets:\n",
    "    dataset['proporcao_orig_hojevsmes'] = dataset['orig_count_dia']/dataset['orig_count']\n",
    "    dataset['proporcao_dest_hojevsmes'] = dataset['dest_count_dia']/dataset['dest_count']"
   ]
  },
  {
   "cell_type": "markdown",
   "metadata": {},
   "source": [
    "Outra feature de proporção que podemos criar é a proporção do valor da transferência em relação ao saldo das contas do receptor e autor da operação, em operações de fraude para \"esvaziar\" a conta a tendência é que tentem retirar uma grande parte, ou todo, o saldo total."
   ]
  },
  {
   "cell_type": "code",
   "execution_count": 32,
   "metadata": {},
   "outputs": [],
   "source": [
    "for dataset in datasets:\n",
    "    dataset['amountvssaldoorigem'] = dataset['amount']/dataset['oldbalanceOrg']\n",
    "    dataset['amountvssaldoorigem'].replace(np.inf, 0, inplace=True)\n",
    "    dataset['amountvssaldoorigem'].replace(np.nan, 0, inplace=True)\n",
    "    dataset['amountvssaldodest'] = dataset['amount']/dataset['newbalanceDest']\n",
    "    dataset['amountvssaldodest'].replace(np.nan, 0, inplace=True)\n",
    "    dataset['amountvssaldodest'].replace(np.inf, 0, inplace=True)"
   ]
  },
  {
   "cell_type": "code",
   "execution_count": 33,
   "metadata": {},
   "outputs": [
    {
     "data": {
      "text/plain": [
       "((4453834, 31), (1908786, 31))"
      ]
     },
     "execution_count": 33,
     "metadata": {},
     "output_type": "execute_result"
    }
   ],
   "source": [
    "X_train.shape,X_test.shape"
   ]
  },
  {
   "cell_type": "markdown",
   "metadata": {},
   "source": [
    "Portanto, conseguimos chegar a 31 features nos nossos datasets após nosso processo de feature engineering."
   ]
  },
  {
   "cell_type": "markdown",
   "metadata": {},
   "source": [
    "### 4) Balanceando o dataset de treino"
   ]
  },
  {
   "cell_type": "markdown",
   "metadata": {},
   "source": [
    "Agora vamos balancear o nosso dataset de treino que contém poucos dados de fraude. Assim nosso modelo será capaz de captar com mais eficiência as fraudes e evitaremos falsos negativos. Vamos usar a abordagem SMOTE para realizar esse balanceamento."
   ]
  },
  {
   "cell_type": "code",
   "execution_count": 34,
   "metadata": {},
   "outputs": [
    {
     "name": "stdout",
     "output_type": "stream",
     "text": [
      "Operações fraudulentas agora são 50.00% do dataset de treino.\n"
     ]
    }
   ],
   "source": [
    "X_train_smote, y_train_smote = SMOTE(random_state=1234).fit_resample(X_train, y_train)\n",
    "smote_value_counts = y_train_smote.value_counts()\n",
    "print(\"Operações fraudulentas agora são %.2f%% do dataset de treino.\" % (smote_value_counts[0] * 100 / len(y_train_smote)))"
   ]
  },
  {
   "cell_type": "markdown",
   "metadata": {},
   "source": [
    "### 5)Treinando os modelos"
   ]
  },
  {
   "cell_type": "markdown",
   "metadata": {},
   "source": [
    "#### 5.1 Regressão Logística"
   ]
  },
  {
   "cell_type": "code",
   "execution_count": 35,
   "metadata": {},
   "outputs": [],
   "source": [
    "logreg = LogisticRegression()"
   ]
  },
  {
   "cell_type": "code",
   "execution_count": 36,
   "metadata": {},
   "outputs": [],
   "source": [
    "logreg.fit(X_train_smote,y_train_smote)"
   ]
  },
  {
   "cell_type": "code",
   "execution_count": 56,
   "metadata": {},
   "outputs": [],
   "source": [
    "y_pred_logreg = logreg.predict(X_test)"
   ]
  },
  {
   "cell_type": "code",
   "execution_count": 57,
   "metadata": {},
   "outputs": [
    {
     "name": "stdout",
     "output_type": "stream",
     "text": [
      "Resultados da Regressão Logística \n",
      "A acurácia é:  0.9634684034773935\n",
      "A precisão do modelo é: 0.030698206365589\n",
      "O recall é: 0.9039014373716633\n",
      "F1 Score é: 0.05937976339821672\n"
     ]
    },
    {
     "data": {
      "image/png": "[encoded data removed]",
      "text/plain": [
       "<Figure size 432x432 with 2 Axes>"
      ]
     },
     "metadata": {
      "needs_background": "light"
     },
     "output_type": "display_data"
    },
    {
     "name": "stdout",
     "output_type": "stream",
     "text": [
      "Regressão Logística: 69731 erros\n",
      "0.9634684034773935\n",
      "              precision    recall  f1-score   support\n",
      "\n",
      "           0       1.00      0.96      0.98   1906351\n",
      "           1       0.03      0.90      0.06      2435\n",
      "\n",
      "    accuracy                           0.96   1908786\n",
      "   macro avg       0.52      0.93      0.52   1908786\n",
      "weighted avg       1.00      0.96      0.98   1908786\n",
      "\n"
     ]
    },
    {
     "data": {
      "text/plain": [
       "<Figure size 720x432 with 0 Axes>"
      ]
     },
     "metadata": {},
     "output_type": "display_data"
    },
    {
     "data": {
      "image/png": "[encoded data removed]",
      "text/plain": [
       "<Figure size 576x432 with 1 Axes>"
      ]
     },
     "metadata": {
      "needs_background": "light"
     },
     "output_type": "display_data"
    }
   ],
   "source": [
    "erros = (y_pred_logreg != y_test).sum()\n",
    "print(\"Resultados da Regressão Logística \")\n",
    "acc= accuracy_score(y_test,y_pred_logreg)\n",
    "print(\"A acurácia é:  {}\".format(acc))\n",
    "prec= precision_score(y_test,y_pred_logreg)\n",
    "print(\"A precisão do modelo é: {}\".format(prec))\n",
    "rec= recall_score(y_test,y_pred_logreg)\n",
    "print(\"O recall é: {}\".format(rec))\n",
    "f1= f1_score(y_test,y_pred_logreg)\n",
    "print(\"F1 Score é: {}\".format(f1))\n",
    "\n",
    "#matriz de confusão\n",
    "LABELS = ['Normal', 'Fraude']\n",
    "conf_matrix = confusion_matrix(y_test, y_pred_logreg)\n",
    "plt.figure(figsize=(6, 6))\n",
    "sns.heatmap(conf_matrix, xticklabels=LABELS, yticklabels=LABELS, annot=True, fmt=\"d\", cmap = 'GnBu');\n",
    "plt.title(\"Matriz de confusão Regressão Logística\")\n",
    "plt.ylabel('Classe Correta')\n",
    "plt.xlabel('Classe Prevista')\n",
    "plt.show()\n",
    "\n",
    "# Métricas\n",
    "plt.figure(figsize=(10,6))\n",
    "print('{}: {} erros'.format(\"Regressão Logística\", erros))\n",
    "print(accuracy_score(y_test, y_pred_logreg))\n",
    "print(classification_report(y_test, y_pred_logreg))\n",
    "\n",
    "#Curva ROC\n",
    "y_pred_proba = logreg.predict_proba(X_test)[:,1]\n",
    "fp_r, tp_r, t = metrics.roc_curve(y_test, y_pred_proba)\n",
    "auc = metrics.auc(fp_r, tp_r)\n",
    "plt.figure(figsize=(8, 6))\n",
    "plt.plot(fp_r, tp_r, label=\"AUC = %.2f\" % auc)\n",
    "plt.plot([0,1],[0,1],\"r--\")\n",
    "plt.ylabel(\"TP rate\")\n",
    "plt.xlabel(\"FP rate\")\n",
    "plt.legend(loc=4)\n",
    "plt.title(\"ROC Curve\")\n",
    "plt.show()"
   ]
  },
  {
   "cell_type": "markdown",
   "metadata": {},
   "source": [
    "O nosso modelo de regressão logística gerou resultados interessantes. Tivemos uma acurácia relativamente boa, de 96.3%. Então o modelo foi capaz de prever relativamente bem as fraudes. Ainda assim entre as 2435 fraudes o modelo deixou de identificar 234, o que no mundo real das operações financeiras pode representar um prejuízo considerável. Já a precisão do modelo foi de apenas 3%, isso ocorreu por conta dos 64947 falsos positivos que o modelo identificou como fraude quando na verdade eram operações normais. Para operações bancárias é melhor errar para o esse lado do falso positivo do que deixar passar fraudes que não são fraudes, já que uma identificação de fraude pode ser resolvida facilmente pelo cliente em caso de uma operação normal enquanto uma fraude que não foi identificada pode representar um prejuízo considerável."
   ]
  },
  {
   "cell_type": "markdown",
   "metadata": {},
   "source": [
    "#### 5.2) Random Forest Classifier"
   ]
  },
  {
   "cell_type": "markdown",
   "metadata": {},
   "source": [
    "Agora vamos treinar um modelo de random forest classifier, que faz uso de árvores de decisão para classificação binária. Esse modelo deve desempenhar melhor do que a regressão logística dada a complexidade que conseguimos acrescentar ao nosso dataset com o feature engineering."
   ]
  },
  {
   "cell_type": "code",
   "execution_count": 40,
   "metadata": {},
   "outputs": [],
   "source": [
    "\n",
    "rfc = RandomForestClassifier()\n",
    "rfc.fit(X_train,y_train)"
   ]
  },
  {
   "cell_type": "code",
   "execution_count": 54,
   "metadata": {},
   "outputs": [],
   "source": [
    "y_pred_rfc = rfc.predict(X_test)"
   ]
  },
  {
   "cell_type": "markdown",
   "metadata": {},
   "source": [
    "Avaliando o modelo:"
   ]
  },
  {
   "cell_type": "code",
   "execution_count": 55,
   "metadata": {},
   "outputs": [
    {
     "name": "stdout",
     "output_type": "stream",
     "text": [
      "Resultados do modelo Random Forest Classifier \n",
      "A acurácia é:  0.9999874265632711\n",
      "A precisão do modelo é: 0.9983464241422075\n",
      "O recall é: 0.9917864476386037\n",
      "F1 Score é: 0.9936358037363991\n"
     ]
    },
    {
     "data": {
      "image/png": "[encoded data removed]",
      "text/plain": [
       "<Figure size 432x432 with 2 Axes>"
      ]
     },
     "metadata": {
      "needs_background": "light"
     },
     "output_type": "display_data"
    },
    {
     "name": "stdout",
     "output_type": "stream",
     "text": [
      "Random Forest: 24 erros\n",
      "0.9999874265632711\n",
      "              precision    recall  f1-score   support\n",
      "\n",
      "           0       1.00      1.00      1.00   1906351\n",
      "           1       1.00      0.99      1.00      2435\n",
      "\n",
      "    accuracy                           1.00   1908786\n",
      "   macro avg       1.00      1.00      1.00   1908786\n",
      "weighted avg       1.00      1.00      1.00   1908786\n",
      "\n"
     ]
    },
    {
     "data": {
      "text/plain": [
       "<Figure size 720x432 with 0 Axes>"
      ]
     },
     "metadata": {},
     "output_type": "display_data"
    },
    {
     "data": {
      "image/png": "[encoded data removed]",
      "text/plain": [
       "<Figure size 576x432 with 1 Axes>"
      ]
     },
     "metadata": {
      "needs_background": "light"
     },
     "output_type": "display_data"
    }
   ],
   "source": [
    "erros = (y_pred_rfc != y_test).sum()\n",
    "print(\"Resultados do modelo Random Forest Classifier \")\n",
    "acc= accuracy_score(y_test,y_pred_rfc)\n",
    "print(\"A acurácia é:  {}\".format(acc))\n",
    "prec= precision_score(y_test,y_pred_rfc)\n",
    "print(\"A precisão do modelo é: {}\".format(prec))\n",
    "rec= recall_score(y_test,y_pred_rfc)\n",
    "print(\"O recall é: {}\".format(rec))\n",
    "f1= f1_score(y_test,y_pred)\n",
    "print(\"F1 Score é: {}\".format(f1))\n",
    "\n",
    "#matriz de confusão\n",
    "LABELS = ['Normal', 'Fraude']\n",
    "conf_matrix = confusion_matrix(y_test, y_pred_rfc)\n",
    "plt.figure(figsize=(6, 6))\n",
    "sns.heatmap(conf_matrix, xticklabels=LABELS, yticklabels=LABELS, annot=True, fmt=\"d\", cmap = 'GnBu');\n",
    "plt.title(\"Matriz de confusão Random Forest Classifier\")\n",
    "plt.ylabel('Classe Correta')\n",
    "plt.xlabel('Classe Prevista')\n",
    "plt.show()\n",
    "\n",
    "# Métricas\n",
    "plt.figure(figsize=(10,6))\n",
    "print('{}: {} erros'.format(\"Random Forest\", erros))\n",
    "print(accuracy_score(y_test, y_pred_rfc))\n",
    "print(classification_report(y_test, y_pred_rfc))\n",
    "\n",
    "#Curva ROC\n",
    "y_pred_proba = rfc.predict_proba(X_test)[:,1]\n",
    "fp_r, tp_r, t = metrics.roc_curve(y_test, y_pred_proba)\n",
    "auc = metrics.auc(fp_r, tp_r)\n",
    "plt.figure(figsize=(8, 6))\n",
    "plt.plot(fp_r, tp_r, label=\"AUC = %.2f\" % auc)\n",
    "plt.plot([0,1],[0,1],\"r--\")\n",
    "plt.ylabel(\"TP rate\")\n",
    "plt.xlabel(\"FP rate\")\n",
    "plt.legend(loc=4)\n",
    "plt.title(\"ROC Curve\")\n",
    "plt.show()"
   ]
  },
  {
   "cell_type": "markdown",
   "metadata": {},
   "source": [
    "Portanto, nosso modelo de Random Forest Classifier foi capaz de prever os dados de teste com 99,9% de precisão. Foram apenas 20 fraudes entre as 2435 que o nosso modelo  não foi capaz de identificar, e entre as não-fraudes foram apenas 4 classificadas como fraudes e 1906347 corretamente como não fraudes."
   ]
  },
  {
   "cell_type": "code",
   "execution_count": 42,
   "metadata": {},
   "outputs": [],
   "source": [
    "#from sklearn.inspection import permutation_importance\n",
    "\n",
    "#importancia = permutation_importance(rfc, X_test, y_test, scoring ='neg_mean_squared_error')\n",
    "#importancia = importancia.importances_mean\n",
    "#importancia_lista = []\n",
    "#for indice, valor in enumerate(importancia):\n",
    "#    importancia_lista.append([indice,valor])\n",
    "#    print('Feature: %0d, Score: %.5f' % (indice,valor))"
   ]
  },
  {
   "cell_type": "markdown",
   "metadata": {},
   "source": [
    "#### 5.3) XGBoost"
   ]
  },
  {
   "cell_type": "markdown",
   "metadata": {},
   "source": [
    "Agora vamos rodar nosso último modelo, o XGBoost. Vamos primeiramente criar uma função de grid search para localizar os melhores parâmetros do nosso modelo XGBoost. Pra acharmos esses parâmetros vamos utilizar a métrica de AUC (area under curve) e tentar maximiza-la."
   ]
  },
  {
   "cell_type": "code",
   "execution_count": 46,
   "metadata": {},
   "outputs": [],
   "source": [
    "def busca_parametros(X, y, search_verbose=1):\n",
    "    params = {\n",
    "    \"gamma\":[0.5, 1, 1.5, 2, 5],\n",
    "    \"max_depth\":[3,4,5,6],\n",
    "    \"min_child_weight\": [100],\n",
    "    \"subsample\": [0.6, 0.8, 1.0],\n",
    "    \"colsample_bytree\": [0.6, 0.8, 1.0],\n",
    "    \"learning_rate\": [0.1, 0.01, 0.001]\n",
    "    }\n",
    "    xgb = XGBClassifier(objective=\"binary:logistic\", eval_metric=\"auc\", use_label_encoder=False)\n",
    "\n",
    "    skf = StratifiedKFold(n_splits=3, shuffle=True, random_state=1234)\n",
    "\n",
    "    grid_search = GridSearchCV(estimator=xgb, param_grid=params, scoring=\"roc_auc\", n_jobs=1, cv=skf.split(X,y), verbose=search_verbose)\n",
    "\n",
    "    grid_search.fit(X, y)\n",
    "\n",
    "    print(\"Melhor estimador: \")\n",
    "    print(grid_search.best_estimator_)\n",
    "    print(\"Melhores Parâmetros: \", grid_search.best_params_)\n",
    "    print(\"AUC mais alto: %.2f\" % grid_search.best_score_)\n",
    "\n",
    "    return grid_search.best_params_"
   ]
  },
  {
   "cell_type": "markdown",
   "metadata": {},
   "source": [
    "Como nosso dataset de treino é muito grande vamos limitar nosso grid search a 5000 entradas de forma a otimizar o processamento."
   ]
  },
  {
   "cell_type": "code",
   "execution_count": 48,
   "metadata": {},
   "outputs": [
    {
     "name": "stdout",
     "output_type": "stream",
     "text": [
      "Fitting 3 folds for each of 540 candidates, totalling 1620 fits\n",
      "Melhor estimador: \n",
      "XGBClassifier(base_score=0.5, booster='gbtree', colsample_bylevel=1,\n",
      "              colsample_bynode=1, colsample_bytree=0.6,\n",
      "              enable_categorical=False, eval_metric='auc', gamma=0.5, gpu_id=-1,\n",
      "              importance_type=None, interaction_constraints='',\n",
      "              learning_rate=0.01, max_delta_step=0, max_depth=4,\n",
      "              min_child_weight=100, missing=nan, monotone_constraints='()',\n",
      "              n_estimators=100, n_jobs=12, num_parallel_tree=1,\n",
      "              predictor='auto', random_state=0, reg_alpha=0, reg_lambda=1,\n",
      "              scale_pos_weight=1, subsample=1.0, tree_method='exact',\n",
      "              use_label_encoder=False, validate_parameters=1, verbosity=None)\n",
      "Melhores Parâmetros:  {'colsample_bytree': 0.6, 'gamma': 0.5, 'learning_rate': 0.01, 'max_depth': 4, 'min_child_weight': 100, 'subsample': 1.0}\n",
      "AUC mais alto: 1.00\n"
     ]
    }
   ],
   "source": [
    "rows = random.sample(np.arange(0,len(X_train_smote.index)).tolist(), 5000)\n",
    "parametros = busca_parametros(X_train_smote.iloc[rows,], y_train_smote.iloc[rows,])"
   ]
  },
  {
   "cell_type": "markdown",
   "metadata": {},
   "source": [
    "Agora com nossos parâmetros otimizados vamos treinar o modelo e realizar as previsões."
   ]
  },
  {
   "cell_type": "code",
   "execution_count": 49,
   "metadata": {},
   "outputs": [
    {
     "data": {
      "text/plain": [
       "XGBClassifier(base_score=0.5, booster='gbtree', colsample_bylevel=1,\n",
       "              colsample_bynode=1, colsample_bytree=0.6,\n",
       "              enable_categorical=False, eval_metric='auc', gamma=0.5, gpu_id=-1,\n",
       "              importance_type=None, interaction_constraints='',\n",
       "              learning_rate=0.01, max_delta_step=0, max_depth=4,\n",
       "              min_child_weight=100, missing=nan, monotone_constraints='()',\n",
       "              n_estimators=100, n_jobs=12, num_parallel_tree=1,\n",
       "              predictor='auto', random_state=0, reg_alpha=0, reg_lambda=1,\n",
       "              scale_pos_weight=1, subsample=1.0, tree_method='approx',\n",
       "              use_label_encoder=False, validate_parameters=1, verbosity=None)"
      ]
     },
     "execution_count": 49,
     "metadata": {},
     "output_type": "execute_result"
    }
   ],
   "source": [
    "model = XGBClassifier(objective=\"binary:logistic\", eval_metric=\"auc\", use_label_encoder=False)\n",
    "model.set_params(**parametros)\n",
    "model.fit(X_train_smote, y_train_smote)"
   ]
  },
  {
   "cell_type": "code",
   "execution_count": 59,
   "metadata": {},
   "outputs": [],
   "source": [
    "y_pred_xgb = model.predict(X_test)"
   ]
  },
  {
   "cell_type": "markdown",
   "metadata": {},
   "source": [
    "Avaliando os resultados:"
   ]
  },
  {
   "cell_type": "code",
   "execution_count": 60,
   "metadata": {},
   "outputs": [
    {
     "name": "stdout",
     "output_type": "stream",
     "text": [
      "Resultados do modelo XGBoost \n",
      "A acurácia é:  0.9999837593108919\n",
      "A precisão do modelo é: 0.993431855500821\n",
      "O recall é: 0.9938398357289527\n",
      "F1 Score é: 0.9936358037363991\n"
     ]
    },
    {
     "data": {
      "image/png": "[encoded data removed]",
      "text/plain": [
       "<Figure size 432x432 with 2 Axes>"
      ]
     },
     "metadata": {
      "needs_background": "light"
     },
     "output_type": "display_data"
    },
    {
     "name": "stdout",
     "output_type": "stream",
     "text": [
      "XGBoost: 31 erros\n",
      "0.9999837593108919\n",
      "              precision    recall  f1-score   support\n",
      "\n",
      "           0       1.00      1.00      1.00   1906351\n",
      "           1       0.99      0.99      0.99      2435\n",
      "\n",
      "    accuracy                           1.00   1908786\n",
      "   macro avg       1.00      1.00      1.00   1908786\n",
      "weighted avg       1.00      1.00      1.00   1908786\n",
      "\n"
     ]
    },
    {
     "data": {
      "text/plain": [
       "<Figure size 720x432 with 0 Axes>"
      ]
     },
     "metadata": {},
     "output_type": "display_data"
    },
    {
     "data": {
      "image/png": "[encoded data removed]",
      "text/plain": [
       "<Figure size 576x432 with 1 Axes>"
      ]
     },
     "metadata": {
      "needs_background": "light"
     },
     "output_type": "display_data"
    }
   ],
   "source": [
    "n_errors = (y_pred_xgb != y_test).sum()\n",
    "print(\"Resultados do modelo XGBoost \")\n",
    "acc= accuracy_score(y_test,y_pred_xgb)\n",
    "print(\"A acurácia é:  {}\".format(acc))\n",
    "prec= precision_score(y_test,y_pred_xgb)\n",
    "print(\"A precisão do modelo é: {}\".format(prec))\n",
    "rec= recall_score(y_test,y_pred_xgb)\n",
    "print(\"O recall é: {}\".format(rec))\n",
    "f1= f1_score(y_test,y_pred_xgb)\n",
    "print(\"F1 Score é: {}\".format(f1))\n",
    "\n",
    "#matriz de confusão\n",
    "LABELS = ['Normal', 'Fraude']\n",
    "conf_matrix = confusion_matrix(y_test, y_pred_xgb)\n",
    "plt.figure(figsize=(6, 6))\n",
    "sns.heatmap(conf_matrix, xticklabels=LABELS, yticklabels=LABELS, annot=True, fmt=\"d\", cmap = 'GnBu');\n",
    "plt.title(\"Matriz de confusão XGBoost\")\n",
    "plt.ylabel('Classe Correta')\n",
    "plt.xlabel('Classe Prevista')\n",
    "plt.show()\n",
    "\n",
    "# Métricas\n",
    "plt.figure(figsize=(10,6))\n",
    "print('{}: {} erros'.format(\"XGBoost\", n_errors))\n",
    "print(accuracy_score(y_test, y_pred_xgb))\n",
    "print(classification_report(y_test, y_pred_xgb))\n",
    "\n",
    "#Curva ROC\n",
    "y_pred_proba = rfc.predict_proba(X_test)[:,1]\n",
    "fp_r, tp_r, t = metrics.roc_curve(y_test, y_pred_proba)\n",
    "auc = metrics.auc(fp_r, tp_r)\n",
    "plt.figure(figsize=(8, 6))\n",
    "plt.plot(fp_r, tp_r, label=\"AUC = %.2f\" % auc)\n",
    "plt.plot([0,1],[0,1],\"r--\")\n",
    "plt.ylabel(\"TP rate\")\n",
    "plt.xlabel(\"FP rate\")\n",
    "plt.legend(loc=4)\n",
    "plt.title(\"ROC Curve\")\n",
    "plt.show()"
   ]
  },
  {
   "cell_type": "markdown",
   "metadata": {},
   "source": [
    "Os resultados foram muito próximos do nosso modelo random forest ! Foram apenas 15 fraudes entre as 2435 que o nosso modelo  não foi capaz de identificar, e entre as não-fraudes foram apenas 16 classificadas como fraudes e 1906347 corretamente como não fraudes. Em relação ao random forest tivemos 5 fraudes não identificadas a menos, porém tivemos 12 não fraudes a mais identificadas como fraudes (O que não chega a ser um problema, dado que no problema de identificação de fraudes é sempre melhor errar para o lado de identificar a fraude quando não há do que deixar de identifica-la quando ela realmente ocorre, o que no nosso modelo XGBoost foi otimizado)"
   ]
  },
  {
   "cell_type": "markdown",
   "metadata": {},
   "source": [
    "### 6) Conclusão"
   ]
  },
  {
   "cell_type": "markdown",
   "metadata": {},
   "source": [
    "Conseguimos criar três modelos para previsão de fraudes e os dois modelos robustos, Random Forest e XGBoost, foram extremamente eficientes na identificação de fraudes com precisões e recalls superiores a 99%. Como sugestão de melhoria desse trabalho temos a adaptação do código para fazer uso do processamento GPU pelo módulo Rapids da NVIDIA e utilizar os módulos cudf para realizar o processo de feature engineering e cuml para treinamento dos modelos em processamento paralelo para uma performance superior em termos de processamento."
   ]
  }
 ],
 "metadata": {
  "interpreter": {
   "hash": "66d7c0815ee3ec39f8a25542b36e8def4dce34ad6588e623c666e441b334d01c"
  },
  "kernelspec": {
   "display_name": "Python 3.8.8 ('base')",
   "language": "python",
   "name": "python3"
  },
  "language_info": {
   "codemirror_mode": {
    "name": "ipython",
    "version": 3
   },
   "file_extension": ".py",
   "mimetype": "text/x-python",
   "name": "python",
   "nbconvert_exporter": "python",
   "pygments_lexer": "ipython3",
   "version": "3.8.8"
  },
  "orig_nbformat": 4
 },
 "nbformat": 4,
 "nbformat_minor": 2
}
